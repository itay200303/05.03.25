{
 "cells": [
  {
   "cell_type": "code",
   "execution_count": 1,
   "id": "acd10854-565f-48d1-baa8-16bc5031ff8f",
   "metadata": {},
   "outputs": [
    {
     "name": "stdout",
     "output_type": "stream",
     "text": [
      "[[48 61 39 84]\n",
      " [11 51  4 87]\n",
      " [24 16 82  6]\n",
      " [65 10 93 43]]\n",
      "[61 84 51 87 82 65 93]\n",
      "[148 138 218 220]\n",
      "[232 153 128 211]\n",
      "[65 61 93 87]\n",
      "[84 87 82 93]\n",
      "[11 10  4  6]\n",
      "[39  4  6 10]\n",
      "[37.  34.5 54.5 55. ]\n",
      "[58.   38.25 32.   52.75]\n"
     ]
    }
   ],
   "source": [
    "import numpy as np\n",
    "    \n",
    "np.random.seed(80)\n",
    "array = np.random.randint(1, 101, (4, 4))\n",
    "print(array)\n",
    "print(array[array > 50])\n",
    "print(np.sum(array, axis=0))\n",
    "print(np.sum(array, axis=1))\n",
    "print(np.max(array, axis=0))\n",
    "print(np.max(array, axis=1))\n",
    "print(np.min(array, axis=0))\n",
    "print(np.min(array, axis=1))\n",
    "print(np.mean(array, axis=0))\n",
    "print(np.mean(array, axis=1))     "
   ]
  },
  {
   "cell_type": "code",
   "execution_count": 3,
   "id": "feccf10d-88ac-412e-89f4-5f25499e62f1",
   "metadata": {},
   "outputs": [
    {
     "name": "stdout",
     "output_type": "stream",
     "text": [
      "price: 59.99\n",
      "Index(['Final Fantasy VII Rebirth', 'Astro Bot', 'Star Wars Outlaws',\n",
      "       'Silent Hill 2 Remake', 'Elden Ring: Shadow of the Erdtree',\n",
      "       'Dragon Age: The Veilguard', 'Metaphor: ReFantazio'],\n",
      "      dtype='object')\n",
      "index price[3]: 69.99\n",
      "sum all games: 439.93\n"
     ]
    }
   ],
   "source": [
    "import numpy as np\n",
    "from IPython.display import display\n",
    "import pandas as pd\n",
    "\n",
    "new_games = {\n",
    "\"Final Fantasy VII Rebirth\": 69.99,\n",
    "\"Astro Bot\": 59.99,\n",
    "\"Star Wars Outlaws\": 69.99,\n",
    "\"Silent Hill 2 Remake\": 69.99,\n",
    "\"Elden Ring: Shadow of the Erdtree\": 39.99,\n",
    "\"Dragon Age: The Veilguard\": 69.99,\n",
    "\"Metaphor: ReFantazio\": 59.99\n",
    "}\n",
    "games_series = pd.Series(new_games)\n",
    "    \n",
    "print(\"price:\", games_series[\"Metaphor: ReFantazio\"])\n",
    "print(games_series.index)\n",
    "print(\"index price[3]:\" , games_series.iloc[3])\n",
    "print(\"sum all games:\", games_series.values.sum())"
   ]
  }
 ],
 "metadata": {
  "kernelspec": {
   "display_name": "Python [conda env:base] *",
   "language": "python",
   "name": "conda-base-py"
  },
  "language_info": {
   "codemirror_mode": {
    "name": "ipython",
    "version": 3
   },
   "file_extension": ".py",
   "mimetype": "text/x-python",
   "name": "python",
   "nbconvert_exporter": "python",
   "pygments_lexer": "ipython3",
   "version": "3.12.7"
  }
 },
 "nbformat": 4,
 "nbformat_minor": 5
}
